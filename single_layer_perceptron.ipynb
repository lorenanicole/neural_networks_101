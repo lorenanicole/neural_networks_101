{
 "cells": [
  {
   "cell_type": "code",
   "execution_count": 7,
   "metadata": {},
   "outputs": [],
   "source": [
    "import numpy as np\n",
    "import sklearn.datasets as datasets\n",
    "import pandas as pd\n",
    "from matplotlib import pyplot as plt\n",
    "import seaborn as sns\n",
    "\n",
    "%matplotlib inline\n"
   ]
  },
  {
   "cell_type": "markdown",
   "metadata": {},
   "source": [
    "### Goal: Use sklearn's breast cancer dataset to classify cell features as malignant or benign with a single layer perceptron NN.\n",
    "\n",
    "To train the neuron:\n",
    "\n",
    "1. Forward pass: Ask the neuron to classify a sample.\n",
    "2. Update the neuron’s weights based on how wrong the prediction is. \n",
    "3. Repeat."
   ]
  },
  {
   "cell_type": "code",
   "execution_count": 2,
   "metadata": {},
   "outputs": [],
   "source": [
    "# Functions \n",
    "\n",
    "def sigmoid(x):\n",
    "    \"\"\"\n",
    "    Activation function for the single layer perceptron.\n",
    "    Chosen because it is easily differentiable, non-linear, and bounded.\n",
    "    \"\"\"\n",
    "    return 1/(1+np.exp(-x))\n",
    "\n",
    "\n",
    "def dsigmoid(y):\n",
    "    \"\"\"\n",
    "    Derivative of the sigmoid function. Useful for minimizing the error of the\n",
    "    neuron's predictions.\n",
    "    \"\"\"\n",
    "    return y*(1-y)\n",
    "\n",
    "\n",
    "def mean_squared_error(y, pred):\n",
    "    \"\"\"\n",
    "    Error function representing the scaled version of mean squared error.\n",
    "    Function used to\n",
    "    \"\"\"\n",
    "    return np.mean(np.square(y - pred))/2\n"
   ]
  },
  {
   "cell_type": "code",
   "execution_count": 8,
   "metadata": {},
   "outputs": [
    {
     "name": "stdout",
     "output_type": "stream",
     "text": [
      "         id diagnosis  radius_mean  texture_mean  perimeter_mean  area_mean  \\\n",
      "0    842302         M        17.99         10.38          122.80     1001.0   \n",
      "1    842517         M        20.57         17.77          132.90     1326.0   \n",
      "2  84300903         M        19.69         21.25          130.00     1203.0   \n",
      "3  84348301         M        11.42         20.38           77.58      386.1   \n",
      "4  84358402         M        20.29         14.34          135.10     1297.0   \n",
      "\n",
      "   smoothness_mean  compactness_mean  concavity_mean  concave points_mean  \\\n",
      "0          0.11840           0.27760          0.3001              0.14710   \n",
      "1          0.08474           0.07864          0.0869              0.07017   \n",
      "2          0.10960           0.15990          0.1974              0.12790   \n",
      "3          0.14250           0.28390          0.2414              0.10520   \n",
      "4          0.10030           0.13280          0.1980              0.10430   \n",
      "\n",
      "      ...       texture_worst  perimeter_worst  area_worst  smoothness_worst  \\\n",
      "0     ...               17.33           184.60      2019.0            0.1622   \n",
      "1     ...               23.41           158.80      1956.0            0.1238   \n",
      "2     ...               25.53           152.50      1709.0            0.1444   \n",
      "3     ...               26.50            98.87       567.7            0.2098   \n",
      "4     ...               16.67           152.20      1575.0            0.1374   \n",
      "\n",
      "   compactness_worst  concavity_worst  concave points_worst  symmetry_worst  \\\n",
      "0             0.6656           0.7119                0.2654          0.4601   \n",
      "1             0.1866           0.2416                0.1860          0.2750   \n",
      "2             0.4245           0.4504                0.2430          0.3613   \n",
      "3             0.8663           0.6869                0.2575          0.6638   \n",
      "4             0.2050           0.4000                0.1625          0.2364   \n",
      "\n",
      "   fractal_dimension_worst  Unnamed: 32  \n",
      "0                  0.11890          NaN  \n",
      "1                  0.08902          NaN  \n",
      "2                  0.08758          NaN  \n",
      "3                  0.17300          NaN  \n",
      "4                  0.07678          NaN  \n",
      "\n",
      "[5 rows x 33 columns]\n"
     ]
    }
   ],
   "source": [
    "df = pd.read_csv('breast_cancer_data.csv')\n",
    "print(df.head())"
   ]
  },
  {
   "cell_type": "code",
   "execution_count": null,
   "metadata": {},
   "outputs": [],
   "source": []
  },
  {
   "cell_type": "code",
   "execution_count": 5,
   "metadata": {},
   "outputs": [
    {
     "name": "stdout",
     "output_type": "stream",
     "text": [
      "Class Labels: ['malignant' 'benign']\n",
      "Dataset Shape: (569, 30)\n",
      "Dataset features: ['mean radius' 'mean texture' 'mean perimeter' 'mean area'\n",
      " 'mean smoothness' 'mean compactness' 'mean concavity'\n",
      " 'mean concave points' 'mean symmetry' 'mean fractal dimension'\n",
      " 'radius error' 'texture error' 'perimeter error' 'area error'\n",
      " 'smoothness error' 'compactness error' 'concavity error'\n",
      " 'concave points error' 'symmetry error' 'fractal dimension error'\n",
      " 'worst radius' 'worst texture' 'worst perimeter' 'worst area'\n",
      " 'worst smoothness' 'worst compactness' 'worst concavity'\n",
      " 'worst concave points' 'worst symmetry' 'worst fractal dimension']\n",
      "malignant vals in sample: 212\n",
      "benign vals in sample: 357\n"
     ]
    }
   ],
   "source": [
    "# Step 1A: Load the data\n",
    "breast_cancer_data = datasets.load_breast_cancer()\n",
    "\n",
    "print('Class Labels: {}'.format(breast_cancer_data.target_names))\n",
    "print('Dataset Shape: {}'.format(breast_cancer_data.data.shape))  # (569, 30) - (num_instances, num_features)\n",
    "print('Dataset features: {}'.format(breast_cancer_data.feature_names))\n",
    "print('{} vals in sample: {}'.format(breast_cancer_data.target_names[0], np.count_nonzero(breast_cancer_data['target'] == 0)))\n",
    "print('{} vals in sample: {}'.format(breast_cancer_data.target_names[1], np.count_nonzero(breast_cancer_data['target'] == 1)))\n",
    "x = breast_cancer_data['data']  # array of features with shape: (n_samples, n_features)\n",
    "y = breast_cancer_data['target']  # array of binary values for the two classes: (n_samples)\n"
   ]
  },
  {
   "cell_type": "code",
   "execution_count": 4,
   "metadata": {},
   "outputs": [],
   "source": [
    "# Step 1B: Randomize the data\n",
    "shuffle_ind = np.random.permutation(len(x))  # shuffle data for training\n",
    "\n",
    "x = np.array(x[shuffle_ind])\n",
    "y = np.array(y[shuffle_ind])[np.newaxis].T  # convert y to a column to make it more consistent with x\n",
    "\n",
    "x /= np.max(x)  # linearly scaling the inputs to a range between 0 and 1, sigmoid function is bounded (0 to 1)\n"
   ]
  },
  {
   "cell_type": "code",
   "execution_count": 5,
   "metadata": {},
   "outputs": [],
   "source": [
    "# Step 1C: Break the data into training, testing sets\n",
    "train_fraction = 0.75\n",
    "train_idx = int(len(x)*train_fraction)\n",
    "\n",
    "x_train = x[:train_idx]\n",
    "y_train = y[:train_idx]\n",
    "\n",
    "x_test = x[train_idx:]\n",
    "y_test = y[train_idx:]"
   ]
  },
  {
   "cell_type": "code",
   "execution_count": 6,
   "metadata": {},
   "outputs": [],
   "source": [
    "# Step 1D: Initialize a single layer (vector) of weights with Python's matrix package numpy\n",
    "W = 2*np.random.random((np.array(x).shape[1], 1)) - 1  # shape: (n_features * 1)"
   ]
  },
  {
   "cell_type": "markdown",
   "metadata": {},
   "source": [
    "#### Step 2: Forward Pass + Update the neuron's weights\n",
    "\n",
    "With the bounded predictions `l1`, we need to calculate the error/loss in these predictions and update neuron weights. We'll use the gradient descent optimization algorithm for weight updates.\n",
    "\n",
    "First we need to calculate the error function to use gradient descent. The error function will help update the weights by calculating the distance between the neuron's predictions and ground truth (label). This is captured in `l1_error`. \n",
    "\n",
    "We must then obtain the gradient (`l1_gradient`), or the partial derivatives in respect to each weight, to minimize the error. These gradient vectors have a magnitude and a direction.\n",
    "\n",
    "Multiplying the `l1_error` with the `l1_gradient` leaves a `l1_delta`.\n",
    "\n",
    "Lastly, we need to apply the `l1_delta` to the original inputs (`10`) to get the `l1_weighted_delta` to apply to the original weights `W1`. Ultimately our `lr` (learning rate) decides how large a \"step\" to take in updating the weights `W`.\n"
   ]
  },
  {
   "cell_type": "code",
   "execution_count": 16,
   "metadata": {},
   "outputs": [
    {
     "name": "stdout",
     "output_type": "stream",
     "text": [
      "Epoch: 0, Training Loss: 0.051470875251217144, Validation Acc: 0.8951048951048951\n",
      "Epoch: 100, Training Loss: 0.05017694626413993, Validation Acc: 0.8951048951048951\n",
      "Epoch: 200, Training Loss: 0.049037144056162704, Validation Acc: 0.8951048951048951\n",
      "Epoch: 300, Training Loss: 0.048022351294910275, Validation Acc: 0.8951048951048951\n",
      "Epoch: 400, Training Loss: 0.04711020058168321, Validation Acc: 0.8951048951048951\n",
      "Epoch: 500, Training Loss: 0.04628307504814058, Validation Acc: 0.8951048951048951\n",
      "Epoch: 600, Training Loss: 0.04552675752572004, Validation Acc: 0.8951048951048951\n",
      "Epoch: 700, Training Loss: 0.04482949426902259, Validation Acc: 0.8951048951048951\n",
      "Epoch: 800, Training Loss: 0.044181345076799085, Validation Acc: 0.8951048951048951\n",
      "Epoch: 900, Training Loss: 0.04357376495405066, Validation Acc: 0.9020979020979021\n"
     ]
    }
   ],
   "source": [
    "lr = 0.5  # learning rate\n",
    "history = {\"loss\": [], \"val_loss\": [], \"acc\": [],\n",
    "           \"val_acc\": []}  # Metrics to track while training\n",
    "epochs = 1000\n",
    "\n",
    "for iter in range(epochs):  # Step 2C: Repeat!\n",
    "    \n",
    "    # Step 2A: Training - Forward Pass, ask the neuron to predict on the training samples\n",
    "    l0 = x_train  # layer 0 output, the matrix of features shape:(n_samples * n_features)\n",
    "    l1 = sigmoid(np.matmul(l0, W))  # perceptron output, or the class predictions for each training sample\n",
    "\n",
    "    l1_error = l1 - y_train  # backward pass, output layer error, how much did we miss?\n",
    "\n",
    "    l1_gradient = dsigmoid(l1)  # minimize the error w/derivative func\n",
    "    \n",
    "    l1_delta = np.multiply(l1_error, l1_gradient)  # how much did we miss by the slope of the sigmoid\n",
    "\n",
    "    l1_weight_delta = np.matmul(l0.T, l1_delta)  # calculate the weight update by applying delta to all weights\n",
    "    \n",
    "    # Step 2B: Update the weights!\n",
    "    W -= l1_weight_delta * lr  # update weights with a scaling factor of learning rate\n",
    "    # 30 weights for each feature\n",
    "    if iter % 100 == 0:\n",
    "        # Recording metrics to understand the performance of neuron at each epoch\n",
    "        train_loss = mean_squared_error(y_train, l1)\n",
    "        train_acc = np.sum(y_train == np.around(l1))/len(x_train)\n",
    "        history[\"loss\"].append(train_loss)\n",
    "        history[\"acc\"].append(train_acc)\n",
    "        val_pred = sigmoid(np.dot(x_test, W))  # generates 143 predictions\n",
    "        val_loss = mean_squared_error(y_test, val_pred)\n",
    "        val_acc = np.sum(y_test == np.around(val_pred))/len(x_test)\n",
    "        history[\"val_loss\"].append(val_loss)\n",
    "        history[\"val_acc\"].append(val_acc)\n",
    "\n",
    "        print('Epoch: {}, Training Loss: {}, Validation Acc: {}'.format(\n",
    "            iter, train_loss, val_acc))\n"
   ]
  },
  {
   "cell_type": "code",
   "execution_count": 8,
   "metadata": {},
   "outputs": [
    {
     "name": "stdout",
     "output_type": "stream",
     "text": [
      "Validation loss: 0.05215941750822036\n",
      "Validation accuracy: 0.9020979020979021\n"
     ]
    }
   ],
   "source": [
    "# Results\n",
    "val_pred = sigmoid(np.dot(x_test, W))\n",
    "print(\"Validation loss: {}\".format(mean_squared_error(y_test, val_pred)))\n",
    "print(\"Validation accuracy: {}\".format(\n",
    "    np.sum(y_test == np.around(val_pred))/len(x_test)))\n"
   ]
  },
  {
   "cell_type": "code",
   "execution_count": 12,
   "metadata": {},
   "outputs": [
    {
     "data": {
      "image/png": "[encoded data removed]",
      "text/plain": [
       "<matplotlib.figure.Figure at 0x113d1d9b0>"
      ]
     },
     "metadata": {},
     "output_type": "display_data"
    }
   ],
   "source": [
    "# Step 3: Plotting Results\n",
    "sns.set()\n",
    "fig = plt.figure()\n",
    "plt_1 = plt.subplot(2, 1, 1)\n",
    "plt.plot(history['loss'], label=\"Training Loss\")\n",
    "plt_1.set_ylabel('Loss', fontsize=10)\n",
    "plt_1.set_title('Neuron training results', fontsize=10)\n",
    "plt.plot(history['val_loss'], label=\"Validation Loss\")\n",
    "plt.legend()\n",
    "\n",
    "plt_2 = plt.subplot(2, 1, 2)\n",
    "plt.plot(history['acc'], label=\"Training Accuracy\")\n",
    "plt.plot(history['val_acc'], label=\"Validation Accuracy\")\n",
    "plt_2.set_xlabel('Epoch (100s)', fontsize=10)\n",
    "plt_2.set_ylabel('Accuracy (%)', fontsize=10)\n",
    "plt.legend()\n",
    "\n",
    "plt.show()\n"
   ]
  }
 ],
 "metadata": {
  "kernelspec": {
   "display_name": "Python 3",
   "language": "python",
   "name": "python3"
  },
  "language_info": {
   "codemirror_mode": {
    "name": "ipython",
    "version": 3
   },
   "file_extension": ".py",
   "mimetype": "text/x-python",
   "name": "python",
   "nbconvert_exporter": "python",
   "pygments_lexer": "ipython3",
   "version": "3.5.2"
  }
 },
 "nbformat": 4,
 "nbformat_minor": 2
}
